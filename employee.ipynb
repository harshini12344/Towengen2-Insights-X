{
 "cells": [
  {
   "cell_type": "code",
   "execution_count": 43,
   "id": "ebaa9996-8349-4b75-b827-42961b89e453",
   "metadata": {},
   "outputs": [],
   "source": [
    "import pandas as pd \n",
    "import matplotlib.pyplot as plt"
   ]
  },
  {
   "cell_type": "code",
   "execution_count": 42,
   "id": "376cf1d4-e296-450c-8371-b0680f2bfba4",
   "metadata": {},
   "outputs": [],
   "source": [
    "data = pd.read_csv(\"C:\\\\Users\\\\Harshini Kulothungan\\\\Downloads\\\\employee.csv\")"
   ]
  },
  {
   "cell_type": "markdown",
   "id": "fe6d76f8-2b1a-48c0-955a-2060858e521d",
   "metadata": {},
   "source": [
    "1.Displaying few top rows of the dataset"
   ]
  },
  {
   "cell_type": "code",
   "execution_count": 18,
   "id": "dcb63fc4-fc16-47d7-bbb0-ee57135a63e4",
   "metadata": {
    "scrolled": true
   },
   "outputs": [
    {
     "name": "stdout",
     "output_type": "stream",
     "text": [
      "   id  department location  age\n",
      "0   3  Operations       US   33\n",
      "1   6       Sales       UK   50\n",
      "2   8          IT   Brasil   54\n",
      "3   9       Admin       UK   32\n",
      "4  12  Operations   Brasil   51\n"
     ]
    }
   ],
   "source": [
    "print(data.head())"
   ]
  },
  {
   "cell_type": "markdown",
   "id": "5371de7e-66a4-451d-9bc4-a60da92f4243",
   "metadata": {},
   "source": [
    "2.Diplaying first top ten rows"
   ]
  },
  {
   "cell_type": "code",
   "execution_count": 19,
   "id": "2f95b4a0-033f-44ec-9ce3-21d2761b8ebe",
   "metadata": {},
   "outputs": [
    {
     "name": "stdout",
     "output_type": "stream",
     "text": [
      "   id  department location  age\n",
      "0   3  Operations       US   33\n",
      "1   6       Sales       UK   50\n",
      "2   8          IT   Brasil   54\n",
      "3   9       Admin       UK   32\n",
      "4  12  Operations   Brasil   51\n",
      "5  19   Marketing       US   50\n",
      "6  23       Sales   Brasil   39\n",
      "7  26  Operations   France   32\n",
      "8  27       Sales   France   58\n",
      "9  29       Admin   France   33\n"
     ]
    }
   ],
   "source": [
    "print(data.head(10))"
   ]
  },
  {
   "cell_type": "markdown",
   "id": "2923969c-84db-48b6-8ca3-a68daddc5ce6",
   "metadata": {},
   "source": [
    "3.Diplaying few bottom rows of the dataset"
   ]
  },
  {
   "cell_type": "code",
   "execution_count": 20,
   "id": "eb5ee2c1-479c-4fb5-b39b-7e6b319b9870",
   "metadata": {},
   "outputs": [
    {
     "name": "stdout",
     "output_type": "stream",
     "text": [
      "       id   department location  age\n",
      "659  1830        Admin       UK   42\n",
      "660  1839        Admin   France   28\n",
      "661  1879  Engineering       US   40\n",
      "662  1881        Sales  Germany   57\n",
      "663  1890        Admin       US   39\n"
     ]
    }
   ],
   "source": [
    "print(data.tail())"
   ]
  },
  {
   "cell_type": "markdown",
   "id": "be2ed3cb-515e-4ed1-8d2b-ed3df02a062e",
   "metadata": {},
   "source": [
    "4.Diplaying bottom ten rows"
   ]
  },
  {
   "cell_type": "code",
   "execution_count": 22,
   "id": "af3a2a90-9340-4585-8036-75838f99bc35",
   "metadata": {
    "scrolled": true
   },
   "outputs": [
    {
     "name": "stdout",
     "output_type": "stream",
     "text": [
      "       id   department location  age\n",
      "654  1796           IT       US   38\n",
      "655  1800        Admin   France   23\n",
      "656  1801        Admin  Germany   26\n",
      "657  1802        Admin  Germany   46\n",
      "658  1807        Admin       UK   51\n",
      "659  1830        Admin       UK   42\n",
      "660  1839        Admin   France   28\n",
      "661  1879  Engineering       US   40\n",
      "662  1881        Sales  Germany   57\n",
      "663  1890        Admin       US   39\n"
     ]
    }
   ],
   "source": [
    "print(data.tail(10))"
   ]
  },
  {
   "cell_type": "markdown",
   "id": "c882a9fa-50b1-40ec-b26f-177c99f9dd8a",
   "metadata": {},
   "source": [
    "5.to find the shape of our dataset (number of rows and columns)"
   ]
  },
  {
   "cell_type": "code",
   "execution_count": 23,
   "id": "66586d05-b209-4a12-98df-f264aa285b28",
   "metadata": {},
   "outputs": [
    {
     "data": {
      "text/plain": [
       "(664, 4)"
      ]
     },
     "execution_count": 23,
     "metadata": {},
     "output_type": "execute_result"
    }
   ],
   "source": [
    "data.shape"
   ]
  },
  {
   "cell_type": "code",
   "execution_count": 24,
   "id": "b26e984f-8f0b-495b-b93c-10dbf93e10ca",
   "metadata": {},
   "outputs": [
    {
     "name": "stdout",
     "output_type": "stream",
     "text": [
      "number of rows 664\n",
      "number of columns 4\n"
     ]
    }
   ],
   "source": [
    "print(\"number of rows\",data.shape[0])\n",
    "print(\"number of columns\",data.shape[1])"
   ]
  },
  {
   "cell_type": "markdown",
   "id": "69ff5207-f273-4aab-a92c-280ae6b571e7",
   "metadata": {},
   "source": [
    "6.to get information about the data sets (number of rows, number of columns, datatypes of each column and the memory requirement)"
   ]
  },
  {
   "cell_type": "code",
   "execution_count": 25,
   "id": "938b661b-0f89-4235-b609-91c676569dbd",
   "metadata": {},
   "outputs": [
    {
     "name": "stdout",
     "output_type": "stream",
     "text": [
      "<class 'pandas.core.frame.DataFrame'>\n",
      "RangeIndex: 664 entries, 0 to 663\n",
      "Data columns (total 4 columns):\n",
      " #   Column      Non-Null Count  Dtype \n",
      "---  ------      --------------  ----- \n",
      " 0   id          664 non-null    int64 \n",
      " 1   department  664 non-null    object\n",
      " 2   location    664 non-null    object\n",
      " 3   age         664 non-null    int64 \n",
      "dtypes: int64(2), object(2)\n",
      "memory usage: 20.9+ KB\n"
     ]
    }
   ],
   "source": [
    "data.info()"
   ]
  },
  {
   "cell_type": "markdown",
   "id": "dbe68e13-6d72-45c2-8b1f-2085a46427c2",
   "metadata": {},
   "source": [
    "7.to check the null values in the dataset"
   ]
  },
  {
   "cell_type": "code",
   "execution_count": 27,
   "id": "0968722d-b9a1-4b9c-804c-a2fd55391da8",
   "metadata": {},
   "outputs": [
    {
     "data": {
      "text/html": [
       "<div>\n",
       "<style scoped>\n",
       "    .dataframe tbody tr th:only-of-type {\n",
       "        vertical-align: middle;\n",
       "    }\n",
       "\n",
       "    .dataframe tbody tr th {\n",
       "        vertical-align: top;\n",
       "    }\n",
       "\n",
       "    .dataframe thead th {\n",
       "        text-align: right;\n",
       "    }\n",
       "</style>\n",
       "<table border=\"1\" class=\"dataframe\">\n",
       "  <thead>\n",
       "    <tr style=\"text-align: right;\">\n",
       "      <th></th>\n",
       "      <th>id</th>\n",
       "      <th>department</th>\n",
       "      <th>location</th>\n",
       "      <th>age</th>\n",
       "    </tr>\n",
       "  </thead>\n",
       "  <tbody>\n",
       "    <tr>\n",
       "      <th>0</th>\n",
       "      <td>False</td>\n",
       "      <td>False</td>\n",
       "      <td>False</td>\n",
       "      <td>False</td>\n",
       "    </tr>\n",
       "    <tr>\n",
       "      <th>1</th>\n",
       "      <td>False</td>\n",
       "      <td>False</td>\n",
       "      <td>False</td>\n",
       "      <td>False</td>\n",
       "    </tr>\n",
       "    <tr>\n",
       "      <th>2</th>\n",
       "      <td>False</td>\n",
       "      <td>False</td>\n",
       "      <td>False</td>\n",
       "      <td>False</td>\n",
       "    </tr>\n",
       "    <tr>\n",
       "      <th>3</th>\n",
       "      <td>False</td>\n",
       "      <td>False</td>\n",
       "      <td>False</td>\n",
       "      <td>False</td>\n",
       "    </tr>\n",
       "    <tr>\n",
       "      <th>4</th>\n",
       "      <td>False</td>\n",
       "      <td>False</td>\n",
       "      <td>False</td>\n",
       "      <td>False</td>\n",
       "    </tr>\n",
       "    <tr>\n",
       "      <th>...</th>\n",
       "      <td>...</td>\n",
       "      <td>...</td>\n",
       "      <td>...</td>\n",
       "      <td>...</td>\n",
       "    </tr>\n",
       "    <tr>\n",
       "      <th>659</th>\n",
       "      <td>False</td>\n",
       "      <td>False</td>\n",
       "      <td>False</td>\n",
       "      <td>False</td>\n",
       "    </tr>\n",
       "    <tr>\n",
       "      <th>660</th>\n",
       "      <td>False</td>\n",
       "      <td>False</td>\n",
       "      <td>False</td>\n",
       "      <td>False</td>\n",
       "    </tr>\n",
       "    <tr>\n",
       "      <th>661</th>\n",
       "      <td>False</td>\n",
       "      <td>False</td>\n",
       "      <td>False</td>\n",
       "      <td>False</td>\n",
       "    </tr>\n",
       "    <tr>\n",
       "      <th>662</th>\n",
       "      <td>False</td>\n",
       "      <td>False</td>\n",
       "      <td>False</td>\n",
       "      <td>False</td>\n",
       "    </tr>\n",
       "    <tr>\n",
       "      <th>663</th>\n",
       "      <td>False</td>\n",
       "      <td>False</td>\n",
       "      <td>False</td>\n",
       "      <td>False</td>\n",
       "    </tr>\n",
       "  </tbody>\n",
       "</table>\n",
       "<p>664 rows × 4 columns</p>\n",
       "</div>"
      ],
      "text/plain": [
       "        id  department  location    age\n",
       "0    False       False     False  False\n",
       "1    False       False     False  False\n",
       "2    False       False     False  False\n",
       "3    False       False     False  False\n",
       "4    False       False     False  False\n",
       "..     ...         ...       ...    ...\n",
       "659  False       False     False  False\n",
       "660  False       False     False  False\n",
       "661  False       False     False  False\n",
       "662  False       False     False  False\n",
       "663  False       False     False  False\n",
       "\n",
       "[664 rows x 4 columns]"
      ]
     },
     "execution_count": 27,
     "metadata": {},
     "output_type": "execute_result"
    }
   ],
   "source": [
    "data.isnull()"
   ]
  },
  {
   "cell_type": "code",
   "execution_count": 28,
   "id": "b5cd8a0e-e738-4247-9a1a-3281d8d24b96",
   "metadata": {},
   "outputs": [
    {
     "data": {
      "text/plain": [
       "id            0\n",
       "department    0\n",
       "location      0\n",
       "age           0\n",
       "dtype: int64"
      ]
     },
     "execution_count": 28,
     "metadata": {},
     "output_type": "execute_result"
    }
   ],
   "source": [
    "data.isnull().sum()"
   ]
  },
  {
   "cell_type": "markdown",
   "id": "2b07a77d-d793-4a1a-9cbc-a125102734d8",
   "metadata": {},
   "source": [
    "8.to get overall statistics about the dataframe"
   ]
  },
  {
   "cell_type": "code",
   "execution_count": 29,
   "id": "01504e61-9122-4642-9f39-6877d8213464",
   "metadata": {},
   "outputs": [
    {
     "data": {
      "text/html": [
       "<div>\n",
       "<style scoped>\n",
       "    .dataframe tbody tr th:only-of-type {\n",
       "        vertical-align: middle;\n",
       "    }\n",
       "\n",
       "    .dataframe tbody tr th {\n",
       "        vertical-align: top;\n",
       "    }\n",
       "\n",
       "    .dataframe thead th {\n",
       "        text-align: right;\n",
       "    }\n",
       "</style>\n",
       "<table border=\"1\" class=\"dataframe\">\n",
       "  <thead>\n",
       "    <tr style=\"text-align: right;\">\n",
       "      <th></th>\n",
       "      <th>id</th>\n",
       "      <th>age</th>\n",
       "    </tr>\n",
       "  </thead>\n",
       "  <tbody>\n",
       "    <tr>\n",
       "      <th>count</th>\n",
       "      <td>664.000000</td>\n",
       "      <td>664.000000</td>\n",
       "    </tr>\n",
       "    <tr>\n",
       "      <th>mean</th>\n",
       "      <td>793.710843</td>\n",
       "      <td>40.921687</td>\n",
       "    </tr>\n",
       "    <tr>\n",
       "      <th>std</th>\n",
       "      <td>498.462869</td>\n",
       "      <td>10.489521</td>\n",
       "    </tr>\n",
       "    <tr>\n",
       "      <th>min</th>\n",
       "      <td>3.000000</td>\n",
       "      <td>22.000000</td>\n",
       "    </tr>\n",
       "    <tr>\n",
       "      <th>25%</th>\n",
       "      <td>364.750000</td>\n",
       "      <td>33.000000</td>\n",
       "    </tr>\n",
       "    <tr>\n",
       "      <th>50%</th>\n",
       "      <td>725.500000</td>\n",
       "      <td>40.000000</td>\n",
       "    </tr>\n",
       "    <tr>\n",
       "      <th>75%</th>\n",
       "      <td>1191.500000</td>\n",
       "      <td>50.000000</td>\n",
       "    </tr>\n",
       "    <tr>\n",
       "      <th>max</th>\n",
       "      <td>1890.000000</td>\n",
       "      <td>59.000000</td>\n",
       "    </tr>\n",
       "  </tbody>\n",
       "</table>\n",
       "</div>"
      ],
      "text/plain": [
       "                id         age\n",
       "count   664.000000  664.000000\n",
       "mean    793.710843   40.921687\n",
       "std     498.462869   10.489521\n",
       "min       3.000000   22.000000\n",
       "25%     364.750000   33.000000\n",
       "50%     725.500000   40.000000\n",
       "75%    1191.500000   50.000000\n",
       "max    1890.000000   59.000000"
      ]
     },
     "execution_count": 29,
     "metadata": {},
     "output_type": "execute_result"
    }
   ],
   "source": [
    "data.describe()"
   ]
  },
  {
   "cell_type": "code",
   "execution_count": 31,
   "id": "c0eb421b-1ddc-46b3-bde3-679c4d3f8efa",
   "metadata": {},
   "outputs": [
    {
     "data": {
      "text/html": [
       "<div>\n",
       "<style scoped>\n",
       "    .dataframe tbody tr th:only-of-type {\n",
       "        vertical-align: middle;\n",
       "    }\n",
       "\n",
       "    .dataframe tbody tr th {\n",
       "        vertical-align: top;\n",
       "    }\n",
       "\n",
       "    .dataframe thead th {\n",
       "        text-align: right;\n",
       "    }\n",
       "</style>\n",
       "<table border=\"1\" class=\"dataframe\">\n",
       "  <thead>\n",
       "    <tr style=\"text-align: right;\">\n",
       "      <th></th>\n",
       "      <th>id</th>\n",
       "      <th>department</th>\n",
       "      <th>location</th>\n",
       "      <th>age</th>\n",
       "    </tr>\n",
       "  </thead>\n",
       "  <tbody>\n",
       "    <tr>\n",
       "      <th>count</th>\n",
       "      <td>664.000000</td>\n",
       "      <td>664</td>\n",
       "      <td>664</td>\n",
       "      <td>664.000000</td>\n",
       "    </tr>\n",
       "    <tr>\n",
       "      <th>unique</th>\n",
       "      <td>NaN</td>\n",
       "      <td>6</td>\n",
       "      <td>5</td>\n",
       "      <td>NaN</td>\n",
       "    </tr>\n",
       "    <tr>\n",
       "      <th>top</th>\n",
       "      <td>NaN</td>\n",
       "      <td>Sales</td>\n",
       "      <td>US</td>\n",
       "      <td>NaN</td>\n",
       "    </tr>\n",
       "    <tr>\n",
       "      <th>freq</th>\n",
       "      <td>NaN</td>\n",
       "      <td>161</td>\n",
       "      <td>277</td>\n",
       "      <td>NaN</td>\n",
       "    </tr>\n",
       "    <tr>\n",
       "      <th>mean</th>\n",
       "      <td>793.710843</td>\n",
       "      <td>NaN</td>\n",
       "      <td>NaN</td>\n",
       "      <td>40.921687</td>\n",
       "    </tr>\n",
       "    <tr>\n",
       "      <th>std</th>\n",
       "      <td>498.462869</td>\n",
       "      <td>NaN</td>\n",
       "      <td>NaN</td>\n",
       "      <td>10.489521</td>\n",
       "    </tr>\n",
       "    <tr>\n",
       "      <th>min</th>\n",
       "      <td>3.000000</td>\n",
       "      <td>NaN</td>\n",
       "      <td>NaN</td>\n",
       "      <td>22.000000</td>\n",
       "    </tr>\n",
       "    <tr>\n",
       "      <th>25%</th>\n",
       "      <td>364.750000</td>\n",
       "      <td>NaN</td>\n",
       "      <td>NaN</td>\n",
       "      <td>33.000000</td>\n",
       "    </tr>\n",
       "    <tr>\n",
       "      <th>50%</th>\n",
       "      <td>725.500000</td>\n",
       "      <td>NaN</td>\n",
       "      <td>NaN</td>\n",
       "      <td>40.000000</td>\n",
       "    </tr>\n",
       "    <tr>\n",
       "      <th>75%</th>\n",
       "      <td>1191.500000</td>\n",
       "      <td>NaN</td>\n",
       "      <td>NaN</td>\n",
       "      <td>50.000000</td>\n",
       "    </tr>\n",
       "    <tr>\n",
       "      <th>max</th>\n",
       "      <td>1890.000000</td>\n",
       "      <td>NaN</td>\n",
       "      <td>NaN</td>\n",
       "      <td>59.000000</td>\n",
       "    </tr>\n",
       "  </tbody>\n",
       "</table>\n",
       "</div>"
      ],
      "text/plain": [
       "                 id department location         age\n",
       "count    664.000000        664      664  664.000000\n",
       "unique          NaN          6        5         NaN\n",
       "top             NaN      Sales       US         NaN\n",
       "freq            NaN        161      277         NaN\n",
       "mean     793.710843        NaN      NaN   40.921687\n",
       "std      498.462869        NaN      NaN   10.489521\n",
       "min        3.000000        NaN      NaN   22.000000\n",
       "25%      364.750000        NaN      NaN   33.000000\n",
       "50%      725.500000        NaN      NaN   40.000000\n",
       "75%     1191.500000        NaN      NaN   50.000000\n",
       "max     1890.000000        NaN      NaN   59.000000"
      ]
     },
     "execution_count": 31,
     "metadata": {},
     "output_type": "execute_result"
    }
   ],
   "source": [
    "data.describe(include='all')"
   ]
  },
  {
   "cell_type": "markdown",
   "id": "af528f34-095f-4ea1-9aa5-3ee38e5fc56f",
   "metadata": {},
   "source": [
    "9.info about the columns"
   ]
  },
  {
   "cell_type": "code",
   "execution_count": 47,
   "id": "22d9921d-5bad-48e5-9deb-11686700fe17",
   "metadata": {},
   "outputs": [
    {
     "data": {
      "text/plain": [
       "Index(['id', 'department', 'location', 'age'], dtype='object')"
      ]
     },
     "execution_count": 47,
     "metadata": {},
     "output_type": "execute_result"
    }
   ],
   "source": [
    "data.columns"
   ]
  },
  {
   "cell_type": "markdown",
   "id": "10ba9b46-75a9-457f-8e9f-1d003d3a4c4d",
   "metadata": {},
   "source": [
    "10.to count employees by department"
   ]
  },
  {
   "cell_type": "code",
   "execution_count": 36,
   "id": "ed4e97c7-c4e0-416d-88bd-7c50fdca4c90",
   "metadata": {},
   "outputs": [],
   "source": [
    "data.dropna(subset=['department'], inplace=True)"
   ]
  },
  {
   "cell_type": "code",
   "execution_count": 39,
   "id": "31d7fee4-a5a4-43a3-86e3-a822980cbd17",
   "metadata": {},
   "outputs": [],
   "source": [
    "department_counts = data['department'].value_counts()"
   ]
  },
  {
   "cell_type": "code",
   "execution_count": 63,
   "id": "bb83cb15-a184-459e-b0f9-743d7d30e0f0",
   "metadata": {},
   "outputs": [
    {
     "data": {
      "text/plain": [
       "<Axes: title={'center': 'Employee Distribution by Department'}, xlabel='department'>"
      ]
     },
     "execution_count": 63,
     "metadata": {},
     "output_type": "execute_result"
    },
    {
     "data": {
      "image/png": "[encoded data removed]",
      "text/plain": [
       "<Figure size 640x480 with 1 Axes>"
      ]
     },
     "metadata": {},
     "output_type": "display_data"
    }
   ],
   "source": [
    "department_counts.plot(kind='bar', title='Employee Distribution by Department',color='purple')"
   ]
  },
  {
   "cell_type": "markdown",
   "id": "cac86daf-b4bf-4c04-a2f9-ca8211b28cff",
   "metadata": {},
   "source": [
    "11.to count employees by thier location"
   ]
  },
  {
   "cell_type": "code",
   "execution_count": null,
   "id": "94d52926-642a-4e69-9d8f-5e6fd553fe2d",
   "metadata": {},
   "outputs": [],
   "source": [
    "data.dropna(subset=['location'], inplace=True)"
   ]
  },
  {
   "cell_type": "code",
   "execution_count": 50,
   "id": "3f6ffa03-1279-45c0-91c3-f8d3b17a6785",
   "metadata": {},
   "outputs": [],
   "source": [
    "location_counts = data['location'].value_counts()"
   ]
  },
  {
   "cell_type": "code",
   "execution_count": 62,
   "id": "fb8cbe34-150e-4cf0-9166-8b95b8561379",
   "metadata": {},
   "outputs": [
    {
     "data": {
      "text/plain": [
       "<Axes: title={'center': 'Employee Distribution by location'}, xlabel='location'>"
      ]
     },
     "execution_count": 62,
     "metadata": {},
     "output_type": "execute_result"
    },
    {
     "data": {
      "image/png": "[encoded data removed]",
      "text/plain": [
       "<Figure size 640x480 with 1 Axes>"
      ]
     },
     "metadata": {},
     "output_type": "display_data"
    }
   ],
   "source": [
    "location_counts.plot(kind='bar', title='Employee Distribution by location',color='yellow')"
   ]
  },
  {
   "cell_type": "markdown",
   "id": "cd507520-b690-4e4c-993a-c933c45d999d",
   "metadata": {},
   "source": [
    "12.to count employees by thier age"
   ]
  },
  {
   "cell_type": "code",
   "execution_count": 52,
   "id": "1856ceb4-0640-4538-b98f-cb91903c0234",
   "metadata": {},
   "outputs": [],
   "source": [
    "data.dropna(subset=['age'], inplace=True)"
   ]
  },
  {
   "cell_type": "code",
   "execution_count": 53,
   "id": "f94533e4-ac97-4cc2-bdf0-cd7f8da7a40f",
   "metadata": {},
   "outputs": [],
   "source": [
    "age_counts = data['age'].value_counts"
   ]
  },
  {
   "cell_type": "code",
   "execution_count": 59,
   "id": "d9c3c761-191f-40fd-a1ac-b946a3d86d01",
   "metadata": {},
   "outputs": [],
   "source": [
    "if callable(age_counts):\n",
    "    age_counts = age_counts()\n"
   ]
  },
  {
   "cell_type": "code",
   "execution_count": 61,
   "id": "19f3d46f-a6b1-4eb3-8c73-99b242cfa0b4",
   "metadata": {},
   "outputs": [
    {
     "data": {
      "image/png": "[encoded data removed]",
      "text/plain": [
       "<Figure size 1000x600 with 1 Axes>"
      ]
     },
     "metadata": {},
     "output_type": "display_data"
    }
   ],
   "source": [
    "plt.figure(figsize=(10, 6))\n",
    "age_counts.plot(kind='bar', color='green')\n",
    "plt.title('Employee Distribution by Age')\n",
    "plt.xlabel('Age')\n",
    "plt.ylabel('Count')\n",
    "plt.xticks(rotation=45)\n",
    "plt.tight_layout()\n",
    "plt.show()"
   ]
  },
  {
   "cell_type": "markdown",
   "id": "c918d478-09bf-4d94-9dbb-fbfabcec0959",
   "metadata": {},
   "source": [
    "13.Age demographics of the dataframe"
   ]
  },
  {
   "cell_type": "code",
   "execution_count": 66,
   "id": "4e9be411-605c-45d2-82b6-086125c8b060",
   "metadata": {},
   "outputs": [],
   "source": [
    "average_age = data['age'].mean()\n"
   ]
  },
  {
   "cell_type": "code",
   "execution_count": 68,
   "id": "198e3a9d-69c1-4f4c-bf6d-9e9c5d995c5a",
   "metadata": {},
   "outputs": [
    {
     "data": {
      "text/plain": [
       "<Axes: title={'center': 'Age Distribution of Employees'}, ylabel='Frequency'>"
      ]
     },
     "execution_count": 68,
     "metadata": {},
     "output_type": "execute_result"
    },
    {
     "data": {
      "image/png": "[encoded data removed]",
      "text/plain": [
       "<Figure size 640x480 with 1 Axes>"
      ]
     },
     "metadata": {},
     "output_type": "display_data"
    }
   ],
   "source": [
    "data['age'].plot(kind='hist', bins=10, title='Age Distribution of Employees',color='orange')\n"
   ]
  },
  {
   "cell_type": "code",
   "execution_count": null,
   "id": "7f13d3ad-dcf6-4f2d-a1c5-3877a543e1a9",
   "metadata": {},
   "outputs": [],
   "source": [
    "14.grouping department by Interdepartmental Interaction"
   ]
  },
  {
   "cell_type": "code",
   "execution_count": 72,
   "id": "256f3430-7dc3-4512-86e2-46d062eb002e",
   "metadata": {},
   "outputs": [],
   "source": [
    "interdepartmental_interactions = data.groupby('department')['department'].count()"
   ]
  },
  {
   "cell_type": "code",
   "execution_count": 73,
   "id": "cf0e084b-16f1-4c97-aa2b-4214375808c2",
   "metadata": {},
   "outputs": [
    {
     "name": "stdout",
     "output_type": "stream",
     "text": [
      "Interdepartmental Interactions:\n",
      "department\n",
      "Admin          140\n",
      "Engineering    100\n",
      "IT              77\n",
      "Marketing       52\n",
      "Operations     134\n",
      "Sales          161\n",
      "Name: department, dtype: int64\n"
     ]
    }
   ],
   "source": [
    "print(\"Interdepartmental Interactions:\")\n",
    "print(interdepartmental_interactions)"
   ]
  },
  {
   "cell_type": "code",
   "execution_count": null,
   "id": "4e048911-32da-4ff9-a3ab-0f55a215c521",
   "metadata": {},
   "outputs": [],
   "source": [
    "14.grouping location by Interlocational Interaction"
   ]
  },
  {
   "cell_type": "code",
   "execution_count": 74,
   "id": "1f93b1f3-93bf-496f-a62a-50cddb20c8d8",
   "metadata": {},
   "outputs": [],
   "source": [
    "interlocational_interactions = data.groupby('location')['location'].count()"
   ]
  },
  {
   "cell_type": "code",
   "execution_count": 75,
   "id": "852c1c45-5c6b-4ca4-820a-f1d7bb785b96",
   "metadata": {},
   "outputs": [
    {
     "name": "stdout",
     "output_type": "stream",
     "text": [
      "Interlocational Interactions:\n",
      "location\n",
      "Brasil      61\n",
      "France     157\n",
      "Germany     99\n",
      "UK          70\n",
      "US         277\n",
      "Name: location, dtype: int64\n"
     ]
    }
   ],
   "source": [
    "print(\"Interlocational Interactions:\")\n",
    "print(interlocational_interactions)"
   ]
  },
  {
   "cell_type": "code",
   "execution_count": null,
   "id": "c9c03040-d2e1-46eb-8da0-29850fc8bead",
   "metadata": {},
   "outputs": [],
   "source": [
    "14.grouping age by age Interaction"
   ]
  },
  {
   "cell_type": "code",
   "execution_count": 77,
   "id": "c130f6f3-568d-4bac-8374-7f9aed04a75d",
   "metadata": {},
   "outputs": [],
   "source": [
    "age_interactions = data.groupby('age')['age'].count()"
   ]
  },
  {
   "cell_type": "code",
   "execution_count": 78,
   "id": "2b2d878c-dd87-40a9-8949-68995cf02cdf",
   "metadata": {},
   "outputs": [
    {
     "name": "stdout",
     "output_type": "stream",
     "text": [
      "Age Interactions:\n",
      "age\n",
      "22    12\n",
      "23    15\n",
      "24    19\n",
      "25    16\n",
      "26    15\n",
      "27    14\n",
      "28    12\n",
      "29    15\n",
      "30    16\n",
      "31    11\n",
      "32    14\n",
      "33    18\n",
      "34    17\n",
      "35    28\n",
      "36    22\n",
      "37    15\n",
      "38    31\n",
      "39    26\n",
      "40    18\n",
      "41    14\n",
      "42    13\n",
      "43    15\n",
      "44    15\n",
      "45    26\n",
      "46    17\n",
      "47    28\n",
      "48    15\n",
      "49    11\n",
      "50    18\n",
      "51    26\n",
      "52    18\n",
      "53    13\n",
      "54    27\n",
      "55    10\n",
      "56    13\n",
      "57    19\n",
      "58    22\n",
      "59    10\n",
      "Name: age, dtype: int64\n"
     ]
    }
   ],
   "source": [
    "print(\"Age Interactions:\")\n",
    "print(age_interactions)"
   ]
  },
  {
   "cell_type": "markdown",
   "id": "69a9c1fb-5bc9-47ac-87a5-cfd28bb4a8fe",
   "metadata": {},
   "source": [
    "15.boxplot for Departmental Age Profile"
   ]
  },
  {
   "cell_type": "code",
   "execution_count": 79,
   "id": "f52683cc-f4a6-4650-a40a-78a41e807195",
   "metadata": {},
   "outputs": [
    {
     "data": {
      "image/png": "[encoded data removed]",
      "text/plain": [
       "<Figure size 640x480 with 1 Axes>"
      ]
     },
     "metadata": {},
     "output_type": "display_data"
    }
   ],
   "source": [
    "data.boxplot(column='age', by='department')\n",
    "plt.title('Departmental Age Profile')\n",
    "plt.xlabel('department')\n",
    "plt.ylabel('age')\n",
    "plt.show()\n"
   ]
  },
  {
   "cell_type": "markdown",
   "id": "8944bf8a-8c4e-4725-8965-12b0d87d455f",
   "metadata": {},
   "source": [
    "16.to group by age and department"
   ]
  },
  {
   "cell_type": "code",
   "execution_count": 81,
   "id": "7af747ad-47ab-4dd2-a00b-2903374592cf",
   "metadata": {},
   "outputs": [
    {
     "name": "stdout",
     "output_type": "stream",
     "text": [
      "Age Diversity by Department:\n",
      "department\n",
      "Admin          36\n",
      "Engineering    33\n",
      "IT             35\n",
      "Marketing      27\n",
      "Operations     37\n",
      "Sales          38\n",
      "Name: age, dtype: int64\n"
     ]
    }
   ],
   "source": [
    "age_diversity = data.groupby('department')['age'].nunique()\n",
    "print(\"Age Diversity by Department:\")\n",
    "print(age_diversity)"
   ]
  },
  {
   "cell_type": "markdown",
   "id": "419f6e09-7277-406d-9cd9-17b4567f69f2",
   "metadata": {},
   "source": [
    "17.to group by location and department"
   ]
  },
  {
   "cell_type": "code",
   "execution_count": 86,
   "id": "8a085b17-5ed4-4a01-82fe-c3fb982de02a",
   "metadata": {},
   "outputs": [
    {
     "name": "stdout",
     "output_type": "stream",
     "text": [
      "Location Diversity (Number of Unique Departments per Location):\n",
      "location\n",
      "Brasil     6\n",
      "France     6\n",
      "Germany    6\n",
      "UK         6\n",
      "US         6\n",
      "Name: department, dtype: int64\n"
     ]
    }
   ],
   "source": [
    "location_diversity = data.groupby('location')['department'].nunique()\n",
    "\n",
    "print(\"Location Diversity (Number of Unique Departments per Location):\")\n",
    "print(location_diversity)"
   ]
  },
  {
   "cell_type": "markdown",
   "id": "a62967b5-441b-43ee-a5c0-7de93dc08443",
   "metadata": {},
   "source": [
    "18.to group by department and location "
   ]
  },
  {
   "cell_type": "code",
   "execution_count": 87,
   "id": "a2c47843-5963-4c23-b35f-399628ce9dd1",
   "metadata": {},
   "outputs": [
    {
     "name": "stdout",
     "output_type": "stream",
     "text": [
      "Department Diversity (Number of Unique Locations per Department):\n",
      "department\n",
      "Admin          5\n",
      "Engineering    5\n",
      "IT             5\n",
      "Marketing      5\n",
      "Operations     5\n",
      "Sales          5\n",
      "Name: location, dtype: int64\n"
     ]
    }
   ],
   "source": [
    "department_diversity = data.groupby('department')['location'].nunique()\n",
    "print(\"Department Diversity (Number of Unique Locations per Department):\")\n",
    "print(department_diversity)\n"
   ]
  },
  {
   "cell_type": "code",
   "execution_count": 91,
   "id": "e2327d1d-3c8f-439b-ac34-e5dcc6ba8ea9",
   "metadata": {},
   "outputs": [
    {
     "name": "stdout",
     "output_type": "stream",
     "text": [
      "Employee Information:\n",
      "Empty DataFrame\n",
      "Columns: [id, department, location, age]\n",
      "Index: []\n"
     ]
    }
   ],
   "source": [
    "employee_id = '3'\n",
    "employee_info = data[data['id'] == employee_id]\n",
    "print(\"Employee Information:\")\n",
    "print(employee_info)\n"
   ]
  },
  {
   "cell_type": "code",
   "execution_count": null,
   "id": "2bd19d2c-d61d-48b3-ba5b-90bd5b44beb9",
   "metadata": {},
   "outputs": [],
   "source": []
  }
 ],
 "metadata": {
  "kernelspec": {
   "display_name": "Python 3 (ipykernel)",
   "language": "python",
   "name": "python3"
  },
  "language_info": {
   "codemirror_mode": {
    "name": "ipython",
    "version": 3
   },
   "file_extension": ".py",
   "mimetype": "text/x-python",
   "name": "python",
   "nbconvert_exporter": "python",
   "pygments_lexer": "ipython3",
   "version": "3.11.4"
  }
 },
 "nbformat": 4,
 "nbformat_minor": 5
}
